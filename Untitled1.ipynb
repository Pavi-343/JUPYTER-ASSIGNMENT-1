{
 "cells": [
  {
   "cell_type": "code",
   "execution_count": 1,
   "id": "32dda3f8-b0cc-4d10-a6c8-3e7cf33d0c76",
   "metadata": {},
   "outputs": [
    {
     "data": {
      "text/html": [
       "<div>\n",
       "<style scoped>\n",
       "    .dataframe tbody tr th:only-of-type {\n",
       "        vertical-align: middle;\n",
       "    }\n",
       "\n",
       "    .dataframe tbody tr th {\n",
       "        vertical-align: top;\n",
       "    }\n",
       "\n",
       "    .dataframe thead th {\n",
       "        text-align: right;\n",
       "    }\n",
       "</style>\n",
       "<table border=\"1\" class=\"dataframe\">\n",
       "  <thead>\n",
       "    <tr style=\"text-align: right;\">\n",
       "      <th></th>\n",
       "      <th>Unnamed: 0</th>\n",
       "      <th>First Name</th>\n",
       "      <th>Last Name</th>\n",
       "      <th>Gender</th>\n",
       "      <th>Country</th>\n",
       "      <th>Age</th>\n",
       "      <th>Date</th>\n",
       "      <th>Id</th>\n",
       "    </tr>\n",
       "  </thead>\n",
       "  <tbody>\n",
       "    <tr>\n",
       "      <th>0</th>\n",
       "      <td>1</td>\n",
       "      <td>Dulce</td>\n",
       "      <td>Abril</td>\n",
       "      <td>Female</td>\n",
       "      <td>United States</td>\n",
       "      <td>32.0</td>\n",
       "      <td>15/10/2017</td>\n",
       "      <td>1562.0</td>\n",
       "    </tr>\n",
       "    <tr>\n",
       "      <th>1</th>\n",
       "      <td>2</td>\n",
       "      <td>Mara</td>\n",
       "      <td>Hashimoto</td>\n",
       "      <td>Female</td>\n",
       "      <td>Great Britain</td>\n",
       "      <td>25.0</td>\n",
       "      <td>16/8/2016</td>\n",
       "      <td>1582.0</td>\n",
       "    </tr>\n",
       "    <tr>\n",
       "      <th>2</th>\n",
       "      <td>3</td>\n",
       "      <td>Philip</td>\n",
       "      <td>Gent</td>\n",
       "      <td>Male</td>\n",
       "      <td>France</td>\n",
       "      <td>36.0</td>\n",
       "      <td>21/5/2015</td>\n",
       "      <td>2587.0</td>\n",
       "    </tr>\n",
       "    <tr>\n",
       "      <th>3</th>\n",
       "      <td>4</td>\n",
       "      <td>Kathleen</td>\n",
       "      <td>Hanner</td>\n",
       "      <td>Female</td>\n",
       "      <td>United States</td>\n",
       "      <td>25.0</td>\n",
       "      <td>15/10/2017</td>\n",
       "      <td>3549.0</td>\n",
       "    </tr>\n",
       "    <tr>\n",
       "      <th>4</th>\n",
       "      <td>5</td>\n",
       "      <td>Nereida</td>\n",
       "      <td>Magwood</td>\n",
       "      <td>Female</td>\n",
       "      <td>United States</td>\n",
       "      <td>58.0</td>\n",
       "      <td>16/8/2016</td>\n",
       "      <td>2468.0</td>\n",
       "    </tr>\n",
       "    <tr>\n",
       "      <th>...</th>\n",
       "      <td>...</td>\n",
       "      <td>...</td>\n",
       "      <td>...</td>\n",
       "      <td>...</td>\n",
       "      <td>...</td>\n",
       "      <td>...</td>\n",
       "      <td>...</td>\n",
       "      <td>...</td>\n",
       "    </tr>\n",
       "    <tr>\n",
       "      <th>95</th>\n",
       "      <td>96</td>\n",
       "      <td>Roma</td>\n",
       "      <td>Lafollette</td>\n",
       "      <td>Female</td>\n",
       "      <td>United States</td>\n",
       "      <td>34.0</td>\n",
       "      <td>15/10/2017</td>\n",
       "      <td>2654.0</td>\n",
       "    </tr>\n",
       "    <tr>\n",
       "      <th>96</th>\n",
       "      <td>97</td>\n",
       "      <td>Felisa</td>\n",
       "      <td>Cail</td>\n",
       "      <td>Female</td>\n",
       "      <td>United States</td>\n",
       "      <td>NaN</td>\n",
       "      <td>16/8/2016</td>\n",
       "      <td>6525.0</td>\n",
       "    </tr>\n",
       "    <tr>\n",
       "      <th>97</th>\n",
       "      <td>98</td>\n",
       "      <td>Demetria</td>\n",
       "      <td>Abbey</td>\n",
       "      <td>Female</td>\n",
       "      <td>United States</td>\n",
       "      <td>32.0</td>\n",
       "      <td>21/5/2015</td>\n",
       "      <td>3265.0</td>\n",
       "    </tr>\n",
       "    <tr>\n",
       "      <th>98</th>\n",
       "      <td>99</td>\n",
       "      <td>Jeromy</td>\n",
       "      <td>Danz</td>\n",
       "      <td>Male</td>\n",
       "      <td>United States</td>\n",
       "      <td>39.0</td>\n",
       "      <td>15/10/2017</td>\n",
       "      <td>3265.0</td>\n",
       "    </tr>\n",
       "    <tr>\n",
       "      <th>99</th>\n",
       "      <td>100</td>\n",
       "      <td>Rasheeda</td>\n",
       "      <td>Alkire</td>\n",
       "      <td>Female</td>\n",
       "      <td>United States</td>\n",
       "      <td>29.0</td>\n",
       "      <td>16/8/2016</td>\n",
       "      <td>6125.0</td>\n",
       "    </tr>\n",
       "  </tbody>\n",
       "</table>\n",
       "<p>100 rows × 8 columns</p>\n",
       "</div>"
      ],
      "text/plain": [
       "    Unnamed: 0 First Name   Last Name  Gender        Country   Age  \\\n",
       "0            1      Dulce       Abril  Female  United States  32.0   \n",
       "1            2       Mara   Hashimoto  Female  Great Britain  25.0   \n",
       "2            3     Philip        Gent    Male         France  36.0   \n",
       "3            4   Kathleen      Hanner  Female  United States  25.0   \n",
       "4            5    Nereida     Magwood  Female  United States  58.0   \n",
       "..         ...        ...         ...     ...            ...   ...   \n",
       "95          96       Roma  Lafollette  Female  United States  34.0   \n",
       "96          97     Felisa        Cail  Female  United States   NaN   \n",
       "97          98   Demetria       Abbey  Female  United States  32.0   \n",
       "98          99     Jeromy        Danz    Male  United States  39.0   \n",
       "99         100   Rasheeda      Alkire  Female  United States  29.0   \n",
       "\n",
       "          Date      Id  \n",
       "0   15/10/2017  1562.0  \n",
       "1    16/8/2016  1582.0  \n",
       "2    21/5/2015  2587.0  \n",
       "3   15/10/2017  3549.0  \n",
       "4    16/8/2016  2468.0  \n",
       "..         ...     ...  \n",
       "95  15/10/2017  2654.0  \n",
       "96   16/8/2016  6525.0  \n",
       "97   21/5/2015  3265.0  \n",
       "98  15/10/2017  3265.0  \n",
       "99   16/8/2016  6125.0  \n",
       "\n",
       "[100 rows x 8 columns]"
      ]
     },
     "execution_count": 1,
     "metadata": {},
     "output_type": "execute_result"
    }
   ],
   "source": [
    "import pandas\n",
    "dataframe =pandas.read_csv('data_new.csv')\n",
    "dataframe\n"
   ]
  },
  {
   "cell_type": "code",
   "execution_count": 6,
   "id": "d3cbacbf-7967-41c9-bba5-1f78344004df",
   "metadata": {},
   "outputs": [
    {
     "name": "stdout",
     "output_type": "stream",
     "text": [
      "first few rows:\n",
      "   Unnamed: 0 First Name  Last Name  Gender        Country   Age        Date  \\\n",
      "0           1      Dulce      Abril  Female  United States  32.0  15/10/2017   \n",
      "1           2       Mara  Hashimoto  Female  Great Britain  25.0   16/8/2016   \n",
      "2           3     Philip       Gent    Male         France  36.0   21/5/2015   \n",
      "3           4   Kathleen     Hanner  Female  United States  25.0  15/10/2017   \n",
      "4           5    Nereida    Magwood  Female  United States  58.0   16/8/2016   \n",
      "\n",
      "       Id  \n",
      "0  1562.0  \n",
      "1  1582.0  \n",
      "2  2587.0  \n",
      "3  3549.0  \n",
      "4  2468.0  \n"
     ]
    }
   ],
   "source": [
    "#display the first few rows of the dataset\n",
    "print ('first few rows:')\n",
    "print(dataframe.head())"
   ]
  },
  {
   "cell_type": "code",
   "execution_count": 10,
   "id": "d8f29436-c479-46cb-a566-93909a7240f1",
   "metadata": {},
   "outputs": [
    {
     "name": "stdout",
     "output_type": "stream",
     "text": [
      "\n",
      "Dataset Shape:\n",
      "(100, 8)\n"
     ]
    }
   ],
   "source": [
    "#get the dataset's shape\n",
    "print('\\nDataset Shape:')\n",
    "print(dataframe.shape)"
   ]
  },
  {
   "cell_type": "code",
   "execution_count": 28,
   "id": "31e8a6fb-566f-4139-b4e5-9cd9835e1104",
   "metadata": {},
   "outputs": [
    {
     "name": "stdout",
     "output_type": "stream",
     "text": [
      "\n",
      "Column Names:\n",
      "['Unnamed: 0', 'First Name', 'Last Name', 'Gender', 'Country', 'Age', 'Date', 'Id']\n"
     ]
    }
   ],
   "source": [
    "# Get the column names of the DataFrame\n",
    "print('\\nColumn Names:')\n",
    "print(dataframe.columns.tolist())  # Correct method to get column names as a list\n"
   ]
  },
  {
   "cell_type": "code",
   "execution_count": 32,
   "id": "6e5c0b2c-12cf-4f40-ab9f-6a4e511c7144",
   "metadata": {},
   "outputs": [
    {
     "name": "stdout",
     "output_type": "stream",
     "text": [
      "\n",
      "Data Types:\n",
      "Unnamed: 0      int64\n",
      "First Name     object\n",
      "Last Name      object\n",
      "Gender         object\n",
      "Country        object\n",
      "Age           float64\n",
      "Date           object\n",
      "Id            float64\n",
      "dtype: object\n"
     ]
    }
   ],
   "source": [
    "# Get the data types for each column\n",
    "print('\\nData Types:')\n",
    "print(dataframe.dtypes)\n"
   ]
  },
  {
   "cell_type": "code",
   "execution_count": 36,
   "id": "d71e850b-dcb0-45bd-85a1-7683827c4f84",
   "metadata": {},
   "outputs": [
    {
     "name": "stdout",
     "output_type": "stream",
     "text": [
      "Summary of Numerical Columns:\n",
      "       Unnamed: 0        Age           Id\n",
      "count  100.000000  94.000000    97.000000\n",
      "mean    50.500000  33.180851  4691.958763\n",
      "std     29.011492   8.162282  2359.317861\n",
      "min      1.000000  21.000000  1258.000000\n",
      "25%     25.750000  26.000000  2587.000000\n",
      "50%     50.500000  32.000000  3579.000000\n",
      "75%     75.250000  37.750000  6540.000000\n",
      "max    100.000000  58.000000  9654.000000\n"
     ]
    }
   ],
   "source": [
    "# Display a summary of the dataset for numerical columns\n",
    "print('Summary of Numerical Columns:')\n",
    "print(dataframe.describe())\n"
   ]
  },
  {
   "cell_type": "code",
   "execution_count": 40,
   "id": "3f7f56cc-6c0d-4955-b673-880b5e6a0ebe",
   "metadata": {},
   "outputs": [
    {
     "name": "stdout",
     "output_type": "stream",
     "text": [
      "\n",
      "Missing Values in Each Column:\n",
      "Unnamed: 0    0\n",
      "First Name    0\n",
      "Last Name     0\n",
      "Gender        0\n",
      "Country       0\n",
      "Age           6\n",
      "Date          0\n",
      "Id            3\n",
      "dtype: int64\n"
     ]
    }
   ],
   "source": [
    "# Check for missing values in each column and report the count\n",
    "print('\\nMissing Values in Each Column:')\n",
    "print(dataframe.isnull().sum())\n"
   ]
  },
  {
   "cell_type": "code",
   "execution_count": 56,
   "id": "edc8d39b-f818-4313-9aa9-f46c1dac54e5",
   "metadata": {},
   "outputs": [
    {
     "name": "stdout",
     "output_type": "stream",
     "text": [
      "Filtered Data (Age > 35 and < 45):\n",
      "    Unnamed: 0 First Name Last Name  Gender        Country   Age        Date  \\\n",
      "2            3     Philip      Gent    Male         France  36.0   21/5/2015   \n",
      "8            9   Vincenza   Weiland  Female  United States  40.0   21/5/2015   \n",
      "10          11    Arcelia    Bouska  Female  Great Britain  39.0   21/5/2015   \n",
      "11          12   Franklyn    Unknow    Male         France  38.0  15/10/2017   \n",
      "16          17     Shavon    Benito  Female         France  39.0  15/10/2017   \n",
      "\n",
      "        Id  \n",
      "2   2587.0  \n",
      "8   6548.0  \n",
      "10  1258.0  \n",
      "11  2579.0  \n",
      "16  3579.0  \n"
     ]
    }
   ],
   "source": [
    "\n",
    "# Filter the data for students aged above 35 and below 45\n",
    "filtered_data = dataframe[(dataframe['Age'] > 35) & (dataframe['Age'] < 45)]\n",
    "\n",
    "# Display the first few rows of the filtered DataFrame\n",
    "print(\"Filtered Data (Age > 35 and < 45):\")\n",
    "print(filtered_data.head())\n",
    "\n",
    "# Optional: Save the filtered data as a new CSV file (if needed)\n",
    "# filtered_data.to_csv('filtered_data.csv', index=False)\n"
   ]
  },
  {
   "cell_type": "code",
   "execution_count": 60,
   "id": "70796b78-31b8-4e84-a9dd-bd527d8aaaea",
   "metadata": {},
   "outputs": [
    {
     "name": "stdout",
     "output_type": "stream",
     "text": [
      "Data Sorted by Age (Ascending):\n",
      "    Unnamed: 0 First Name  Last Name  Gender Country   Age        Date      Id\n",
      "74          75     Lester    Prothro    Male  France  21.0  15/10/2017  6574.0\n",
      "27          28  Francesca  Beaudreau  Female  France  23.0  15/10/2017  5412.0\n",
      "77          78  Francesca  Beaudreau  Female  France  23.0  15/10/2017  5412.0\n",
      "15          16   Shavonne        Pia  Female  France  24.0   21/5/2015  1546.0\n",
      "42          43      Angel      Sanor    Male  France  24.0  15/10/2017  3259.0\n",
      "\n",
      "Data Sorted by Age (Descending):\n",
      "    Unnamed: 0 First Name Last Name  Gender        Country   Age        Date  \\\n",
      "54          55    Nereida   Magwood  Female  United States  58.0   16/8/2016   \n",
      "4            5    Nereida   Magwood  Female  United States  58.0   16/8/2016   \n",
      "56          57       Etta      Hurn  Female  Great Britain  56.0  15/10/2017   \n",
      "71          72      Holly      Eudy  Female  United States  52.0   16/8/2016   \n",
      "21          22      Holly      Eudy  Female  United States  52.0   16/8/2016   \n",
      "\n",
      "        Id  \n",
      "54  2468.0  \n",
      "4   2468.0  \n",
      "56  3598.0  \n",
      "71  8561.0  \n",
      "21  8561.0  \n"
     ]
    }
   ],
   "source": [
    "# Sort the data by age in ascending order\n",
    "sorted_data_ascending = dataframe.sort_values(by='Age', ascending=True)\n",
    "print(\"Data Sorted by Age (Ascending):\")\n",
    "print(sorted_data_ascending.head())\n",
    "\n",
    "# Sort the data by age in descending order\n",
    "sorted_data_descending = dataframe.sort_values(by='Age', ascending=False)\n",
    "print(\"\\nData Sorted by Age (Descending):\")\n",
    "print(sorted_data_descending.head())\n"
   ]
  },
  {
   "cell_type": "code",
   "execution_count": null,
   "id": "5f83c365-c2c4-4829-9033-0ebda3f78869",
   "metadata": {},
   "outputs": [],
   "source": []
  }
 ],
 "metadata": {
  "kernelspec": {
   "display_name": "Python 3 (ipykernel)",
   "language": "python",
   "name": "python3"
  },
  "language_info": {
   "codemirror_mode": {
    "name": "ipython",
    "version": 3
   },
   "file_extension": ".py",
   "mimetype": "text/x-python",
   "name": "python",
   "nbconvert_exporter": "python",
   "pygments_lexer": "ipython3",
   "version": "3.12.7"
  }
 },
 "nbformat": 4,
 "nbformat_minor": 5
}
